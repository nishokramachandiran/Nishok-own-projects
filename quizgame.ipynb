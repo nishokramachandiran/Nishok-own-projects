{
  "nbformat": 4,
  "nbformat_minor": 0,
  "metadata": {
    "colab": {
      "provenance": [],
      "authorship_tag": "ABX9TyNHkEvWVi6o4Bl44SHUfhW1",
      "include_colab_link": true
    },
    "kernelspec": {
      "name": "python3",
      "display_name": "Python 3"
    },
    "language_info": {
      "name": "python"
    }
  },
  "cells": [
    {
      "cell_type": "markdown",
      "metadata": {
        "id": "view-in-github",
        "colab_type": "text"
      },
      "source": [
        "<a href=\"https://colab.research.google.com/github/nishokramachandiran/Nishok-own-projects/blob/main/quizgame.ipynb\" target=\"_parent\"><img src=\"https://colab.research.google.com/assets/colab-badge.svg\" alt=\"Open In Colab\"/></a>"
      ]
    },
    {
      "cell_type": "code",
      "execution_count": null,
      "metadata": {
        "colab": {
          "base_uri": "https://localhost:8080/"
        },
        "id": "zEzSCqTYQ6Ic",
        "outputId": "befcb238-7ed3-43d9-fe9c-04ced8589a32"
      },
      "outputs": [
        {
          "output_type": "stream",
          "name": "stdout",
          "text": [
            " Welcome To My Quiz Game \n",
            " Interesting Game to Play\n",
            " Do you want to play the game? \n",
            "ashok\n",
            "Good Bye\n",
            "Enter Your Name: ashok\n",
            "Let's Start the Game :)  ashok\n",
            " What is CPU stands for? \n",
            " central processing unit\n",
            "Correct\n"
          ]
        }
      ],
      "source": [
        "print(\" Welcome To My Quiz Game \\n Interesting Game to Play\")\n",
        "Player = input(\" Do you want to play the game? \\n\" )\n",
        "if Player.lower() != 'yes':\n",
        "    print(\"Good Bye\")\n",
        "    quit()\n",
        "\n",
        "name_player = input(\"Enter Your Name: \")\n",
        "\n",
        "print(\"Let's Start the Game :) \",name_player)\n",
        "\n",
        "score = 0\n",
        "\n",
        "answer = input(' What is CPU stands for? \\n ')\n",
        "if answer.lower() == 'central processing unit':\n",
        "    print(\"Correct\")\n",
        "    score += 1\n",
        "else:\n",
        "    print('Wrong')\n",
        "\n",
        "answer = input(' What is GPU stands for? \\n ')\n",
        "if answer.lower() == 'graphical processing unit':\n",
        "    print(\"Correct\")\n",
        "    score += 1\n",
        "else:\n",
        "    print('Wrong')\n",
        "\n",
        "answer = input(' What is RAM stands for? \\n ')\n",
        "if answer.lower() == 'random access memory':\n",
        "    print(\"Correct\")\n",
        "    score += 1\n",
        "else:\n",
        "    print('Wrong')\n",
        "\n",
        "answer = input(' What is ROM stands for? \\n ')\n",
        "if answer.lower() == 'read only memory':\n",
        "    print(\"Correct\")\n",
        "    score += 1\n",
        "else:\n",
        "    print('Wrong')\n",
        "\n",
        "answer = input(' Mouse is an input device or output device? \\n ')\n",
        "if answer.lower() == 'input device':\n",
        "    print(\"Correct\")\n",
        "    score += 1\n",
        "else:\n",
        "    print('Wrong')\n",
        "\n",
        "print(\"You got the \" + str(score)+ \" correct answers\")\n",
        "print(\"You got the \" + str((score/5) *100)+ \" correct answers\")"
      ]
    }
  ]
}